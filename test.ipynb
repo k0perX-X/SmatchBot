{
 "cells": [
  {
   "cell_type": "code",
   "execution_count": 2,
   "outputs": [
    {
     "ename": "ModuleNotFoundError",
     "evalue": "No module named 'bot_resoses'",
     "output_type": "error",
     "traceback": [
      "\u001B[1;31m---------------------------------------------------------------------------\u001B[0m",
      "\u001B[1;31mModuleNotFoundError\u001B[0m                       Traceback (most recent call last)",
      "\u001B[1;32m~\\AppData\\Local\\Temp/ipykernel_20588/2453737286.py\u001B[0m in \u001B[0;36m<module>\u001B[1;34m\u001B[0m\n\u001B[1;32m----> 1\u001B[1;33m \u001B[1;32mfrom\u001B[0m \u001B[0mbot_resoses\u001B[0m \u001B[1;32mimport\u001B[0m \u001B[1;33m*\u001B[0m\u001B[1;33m\u001B[0m\u001B[1;33m\u001B[0m\u001B[0m\n\u001B[0m",
      "\u001B[1;31mModuleNotFoundError\u001B[0m: No module named 'bot_resoses'"
     ]
    }
   ],
   "source": [
    "from bot_resources import *"
   ],
   "metadata": {
    "collapsed": false,
    "pycharm": {
     "name": "#%%\n"
    }
   }
  },
  {
   "cell_type": "code",
   "execution_count": 2,
   "outputs": [
    {
     "data": {
      "text/plain": "0"
     },
     "execution_count": 2,
     "metadata": {},
     "output_type": "execute_result"
    }
   ],
   "source": [
    "len([r for r in db['users'].find({\"_id\": 213151570})])"
   ],
   "metadata": {
    "collapsed": false,
    "pycharm": {
     "name": "#%%\n"
    }
   }
  },
  {
   "cell_type": "code",
   "execution_count": 3,
   "outputs": [
    {
     "name": "stdout",
     "output_type": "stream",
     "text": [
      "Requirement already satisfied: pyspellchecker in c:\\users\\kolya\\pycharmprojects\\sporttbot\\env\\lib\\site-packages (0.6.2)\n"
     ]
    }
   ],
   "source": [
    "! pip install pyspellchecker"
   ],
   "metadata": {
    "collapsed": false,
    "pycharm": {
     "name": "#%%\n"
    }
   }
  },
  {
   "cell_type": "code",
   "execution_count": 4,
   "outputs": [
    {
     "name": "stdout",
     "output_type": "stream",
     "text": [
      "января\n",
      "{'январь', 'января', 'январе', 'анвар'}\n"
     ]
    }
   ],
   "source": [
    "from spellchecker import SpellChecker\n",
    "\n",
    "spell = SpellChecker(language='ru')\n",
    "\n",
    "# find those words that may be misspelled\n",
    "misspelled = spell.unknown(['ноября', 'декабрь', 'январ', 'март'])\n",
    "# spell.word_frequency.load_text_file('my_free_text_doc.txt')\n",
    "\n",
    "\n",
    "for word in misspelled:\n",
    "    # Get the one `most likely` answer\n",
    "    print(spell.correction(word))\n",
    "\n",
    "    # Get a list of `likely` options\n",
    "    print(spell.candidates(word))"
   ],
   "metadata": {
    "collapsed": false,
    "pycharm": {
     "name": "#%%\n"
    }
   }
  },
  {
   "cell_type": "code",
   "execution_count": 6,
   "outputs": [
    {
     "name": "stdout",
     "output_type": "stream",
     "text": [
      "ноябрь\n",
      "{'ноябрь'}\n",
      "декабрь\n",
      "{'декабрь'}\n",
      "январь\n",
      "{'январь'}\n",
      "01123\n",
      "{'01123'}\n"
     ]
    }
   ],
   "source": [
    "months_checker = SpellChecker(local_dictionary=\"resources/empty.json\", distance=4)\n",
    "months_checker.word_frequency.load_text_file(\"resources/months.ini\")\n",
    "\n",
    "misspelled = ['ноября', 'декабрь', 'январ', '01123']\n",
    "\n",
    "for word in misspelled:\n",
    "    # Get the one `most likely` answer\n",
    "    print(months_checker.correction(word))\n",
    "\n",
    "    # Get a list of `likely` options\n",
    "    print(months_checker.candidates(word))"
   ],
   "metadata": {
    "collapsed": false,
    "pycharm": {
     "name": "#%%\n"
    }
   }
  },
  {
   "cell_type": "code",
   "execution_count": 7,
   "outputs": [
    {
     "data": {
      "text/plain": "{1: 'январь',\n 2: 'февраль',\n 3: 'март',\n 4: 'апрель',\n 5: 'май',\n 6: 'июнь',\n 7: 'июль',\n 8: 'август',\n 9: 'сентябрь',\n 10: 'октябрь',\n 11: 'ноябрь',\n 12: 'декабрь'}"
     },
     "execution_count": 7,
     "metadata": {},
     "output_type": "execute_result"
    }
   ],
   "source": [
    "months = {'январь': 1, 'февраль': 2, 'март': 3, 'апрель': 4, 'май': 5, 'июнь': 6, 'июль': 7, 'август': 8, 'сентябрь': 9,\n",
    "          'октябрь': 10, 'ноябрь': 11, 'декабрь': 12}\n",
    "{j: i for i, j in months.items()}"
   ],
   "metadata": {
    "collapsed": false,
    "pycharm": {
     "name": "#%%\n"
    }
   }
  },
  {
   "cell_type": "code",
   "execution_count": 8,
   "outputs": [
    {
     "data": {
      "text/plain": "datetime.date(1900, 11, 30)"
     },
     "execution_count": 8,
     "metadata": {},
     "output_type": "execute_result"
    }
   ],
   "source": [
    "import datetime\n",
    "\n",
    "datetime.date(1900, 11, 30)"
   ],
   "metadata": {
    "collapsed": false,
    "pycharm": {
     "name": "#%%\n"
    }
   }
  },
  {
   "cell_type": "code",
   "execution_count": 9,
   "outputs": [
    {
     "data": {
      "text/plain": "datetime.date(2003, 11, 28)"
     },
     "execution_count": 9,
     "metadata": {},
     "output_type": "execute_result"
    }
   ],
   "source": [
    "today = datetime.date.today()\n",
    "datetime.date(today.year - 18, today.month, today.day)"
   ],
   "metadata": {
    "collapsed": false,
    "pycharm": {
     "name": "#%%\n"
    }
   }
  },
  {
   "cell_type": "code",
   "execution_count": 10,
   "outputs": [
    {
     "data": {
      "text/plain": "['10', 'ноября', '2001']"
     },
     "execution_count": 10,
     "metadata": {},
     "output_type": "execute_result"
    }
   ],
   "source": [
    "sum(map(lambda x: x.split('.'), '10 ноября 2001'.split()), [])"
   ],
   "metadata": {
    "collapsed": false,
    "pycharm": {
     "name": "#%%\n"
    }
   }
  },
  {
   "cell_type": "code",
   "execution_count": 11,
   "outputs": [
    {
     "data": {
      "text/plain": "'select_sex'"
     },
     "execution_count": 11,
     "metadata": {},
     "output_type": "execute_result"
    }
   ],
   "source": [
    "data = 'select_sex//sex_non_binary'\n",
    "data[0:10]"
   ],
   "metadata": {
    "collapsed": false,
    "pycharm": {
     "name": "#%%\n"
    }
   }
  },
  {
   "cell_type": "code",
   "execution_count": 12,
   "outputs": [
    {
     "data": {
      "text/plain": "'sex_non_binary'"
     },
     "execution_count": 12,
     "metadata": {},
     "output_type": "execute_result"
    }
   ],
   "source": [
    "'select_sex//sex_non_binary'[12:]"
   ],
   "metadata": {
    "collapsed": false,
    "pycharm": {
     "name": "#%%\n"
    }
   }
  },
  {
   "cell_type": "code",
   "execution_count": 17,
   "outputs": [
    {
     "data": {
      "text/plain": "['💪🏼Спортзал',\n '🕺Танцы',\n '🏃Бег',\n '🛹Скейтборд',\n '🏊Плавание',\n '🎾Теннис',\n '⛸Коньки',\n '🚴\\u200dВелоспорт',\n '🛼Ролики',\n '🎿Лыжи',\n '⛷Горные лыжи и сноуборд',\n '🤺Фехтование',\n '🤿Дайвинг',\n '👯Гимнастика',\n '🏓Настольный теннис',\n '🤸Спортивная гимнастика',\n '🤼Боевые искусства',\n '⚽Футбол',\n '🏐Волейбол',\n '🏀Баскетбол',\n '🏒Хоккей',\n 'Другой']"
     },
     "execution_count": 17,
     "metadata": {},
     "output_type": "execute_result"
    }
   ],
   "source": [
    "[i for i in language['Sports'].values()]"
   ],
   "metadata": {
    "collapsed": false,
    "pycharm": {
     "name": "#%%\n"
    }
   }
  },
  {
   "cell_type": "code",
   "execution_count": 21,
   "outputs": [
    {
     "data": {
      "text/plain": "[]"
     },
     "execution_count": 21,
     "metadata": {},
     "output_type": "execute_result"
    }
   ],
   "source": [
    "l = [1]\n",
    "m = []"
   ],
   "metadata": {
    "collapsed": false,
    "pycharm": {
     "name": "#%%\n"
    }
   }
  },
  {
   "cell_type": "code",
   "execution_count": 1,
   "outputs": [
    {
     "data": {
      "text/plain": "165"
     },
     "execution_count": 1,
     "metadata": {},
     "output_type": "execute_result"
    }
   ],
   "source": [
    "88 + 77\n"
   ],
   "metadata": {
    "collapsed": false,
    "pycharm": {
     "name": "#%%\n"
    }
   }
  },
  {
   "cell_type": "code",
   "execution_count": 6,
   "outputs": [],
   "source": [
    "user = {}\n",
    "user['sports'] = {i: 0 for i in range(10)}"
   ],
   "metadata": {
    "collapsed": false,
    "pycharm": {
     "name": "#%%\n"
    }
   }
  },
  {
   "cell_type": "code",
   "execution_count": 7,
   "outputs": [],
   "source": [
    "def f1():\n",
    "    return list(user['sports'].keys())[5]\n",
    "\n",
    "\n",
    "def f2():\n",
    "    i = 0\n",
    "    for el in user['sports'].keys():\n",
    "        if i == 5:\n",
    "            return el\n",
    "        i += 1"
   ],
   "metadata": {
    "collapsed": false,
    "pycharm": {
     "name": "#%%\n"
    }
   }
  },
  {
   "cell_type": "code",
   "execution_count": 11,
   "outputs": [
    {
     "data": {
      "text/plain": "0.9430686999694444"
     },
     "execution_count": 11,
     "metadata": {},
     "output_type": "execute_result"
    }
   ],
   "source": [
    "import timeit\n",
    "\n",
    "timeit.timeit(f1, number=1000000)"
   ],
   "metadata": {
    "collapsed": false,
    "pycharm": {
     "name": "#%%\n"
    }
   }
  },
  {
   "cell_type": "code",
   "execution_count": 12,
   "outputs": [
    {
     "data": {
      "text/plain": "1.2682516000350006"
     },
     "execution_count": 12,
     "metadata": {},
     "output_type": "execute_result"
    }
   ],
   "source": [
    "timeit.timeit(f2, number=1000000)\n"
   ],
   "metadata": {
    "collapsed": false,
    "pycharm": {
     "name": "#%%\n"
    }
   }
  },
  {
   "cell_type": "code",
   "execution_count": 13,
   "outputs": [
    {
     "data": {
      "text/plain": "34"
     },
     "execution_count": 13,
     "metadata": {},
     "output_type": "execute_result"
    }
   ],
   "source": [
    "len(\"levels_of_professionalism_keyboard\")\n"
   ],
   "metadata": {
    "collapsed": false,
    "pycharm": {
     "name": "#%%\n"
    }
   }
  },
  {
   "cell_type": "code",
   "execution_count": 14,
   "outputs": [
    {
     "data": {
      "text/plain": "'levels_of_professionalism_keyboard'"
     },
     "execution_count": 14,
     "metadata": {},
     "output_type": "execute_result"
    }
   ],
   "source": [
    "\"levels_of_professionalism_keyboard//\"[:34]"
   ],
   "metadata": {
    "collapsed": false,
    "pycharm": {
     "name": "#%%\n"
    }
   }
  },
  {
   "cell_type": "code",
   "execution_count": 25,
   "outputs": [],
   "source": [
    "selected_sports_professionalism = {}\n",
    "selected_sports_professionalism[1] = {}"
   ],
   "metadata": {
    "collapsed": false,
    "pycharm": {
     "name": "#%%\n"
    }
   }
  },
  {
   "cell_type": "code",
   "execution_count": 26,
   "outputs": [
    {
     "data": {
      "text/plain": "{1: {'1': 2}}"
     },
     "execution_count": 26,
     "metadata": {},
     "output_type": "execute_result"
    }
   ],
   "source": [
    "user = selected_sports_professionalism[1]\n",
    "user['1'] = 2\n",
    "selected_sports_professionalism"
   ],
   "metadata": {
    "collapsed": false,
    "pycharm": {
     "name": "#%%\n"
    }
   }
  },
  {
   "cell_type": "code",
   "execution_count": 27,
   "outputs": [
    {
     "data": {
      "text/plain": "{1: {'1': 2}}"
     },
     "execution_count": 27,
     "metadata": {},
     "output_type": "execute_result"
    }
   ],
   "source": [
    "selected_sports_professionalism"
   ],
   "metadata": {
    "collapsed": false,
    "pycharm": {
     "name": "#%%\n"
    }
   }
  },
  {
   "cell_type": "code",
   "execution_count": 28,
   "outputs": [
    {
     "data": {
      "text/plain": "{'1': 2}"
     },
     "execution_count": 28,
     "metadata": {},
     "output_type": "execute_result"
    }
   ],
   "source": [
    "{i.lower(): j for i, j in selected_sports_professionalism[1].items()}"
   ],
   "metadata": {
    "collapsed": false,
    "pycharm": {
     "name": "#%%\n"
    }
   }
  },
  {
   "cell_type": "code",
   "execution_count": 2,
   "outputs": [
    {
     "data": {
      "text/plain": "'1 4 1 4 3 3 3 1 0 6 1 2 3 5 1 4 3 3 5 1 5 2 4 3 2 2 3 3 1 3 2 3 1 1 4 3 1 4 3 1 6 4 3 4 2 3 2 3 3 1 4 6 1 4 5 3 4 2 4 5 2 6 4 1 3 3 4 1 3 1 0 1 4 6 4 7 4 1 3 5'"
     },
     "execution_count": 2,
     "metadata": {},
     "output_type": "execute_result"
    }
   ],
   "source": [
    "string = '14143331061235143351524322331323114314316434232331461453424526413341310146474135'\n",
    "\n",
    "mas = [int(i) for i in string]\n",
    "mas"
   ],
   "metadata": {
    "collapsed": false,
    "pycharm": {
     "name": "#%%\n"
    }
   }
  },
  {
   "cell_type": "code",
   "execution_count": 4,
   "outputs": [
    {
     "data": {
      "text/plain": "{'_id': 213151570,\n 'name': 'Коля',\n 'date_of_birth': datetime.datetime(2001, 11, 10, 0, 0),\n 'kinds_of_sports': {'jym': 1,\n  'swimming': 2,\n  'tennis': 1,\n  'skate': 1,\n  'cycling': 2,\n  'table_tennis': 1},\n 'other_kinds_of_sports': {'сквош': 2},\n 'time_of_start_registration': datetime.datetime(2021, 11, 30, 0, 54, 59, 3000),\n 'about': 'Я студент, учусь на программиста. Ищу друга и партера для занятий спортом'}"
     },
     "execution_count": 4,
     "metadata": {},
     "output_type": "execute_result"
    }
   ],
   "source": [
    "from bot_resources import *\n",
    "\n",
    "db['registration'].find_one_and_delete({'_id': 213151570})"
   ],
   "metadata": {
    "collapsed": false,
    "pycharm": {
     "name": "#%%\n"
    }
   }
  },
  {
   "cell_type": "code",
   "source": [
    "from bot_resources import *\n",
    "\n",
    "for i in db['registration'].find({}):\n",
    "    print(i)"
   ],
   "metadata": {
    "collapsed": false,
    "pycharm": {
     "name": "#%%\n"
    }
   },
   "execution_count": 3,
   "outputs": [
    {
     "name": "stdout",
     "output_type": "stream",
     "text": [
      "{'_id': 1193871938, 'time_of_start_registration': datetime.datetime(2021, 11, 30, 0, 17, 13, 781000), 'name': '..', 'date_of_birth': datetime.datetime(2002, 6, 2, 0, 0), 'kinds_of_sports': {'jym': 0, 'dance': 1}, 'other_kinds_of_sports': [], 'about': '…'}\n",
      "{'_id': 213151570, 'time_of_start_registration': datetime.datetime(2021, 12, 6, 19, 31, 38, 378000), 'name': 'Николай'}\n"
     ]
    }
   ]
  },
  {
   "cell_type": "code",
   "execution_count": 12,
   "outputs": [
    {
     "data": {
      "text/plain": "{'_id': 213151570,\n 'time_of_start_registration': datetime.datetime(2021, 12, 7, 14, 29, 14, 422000),\n 'name': 'Коля',\n 'date_of_birth': datetime.datetime(2001, 11, 10, 0, 0),\n 'kinds_of_sports': {'jym': 1,\n  'swimming': 2,\n  'tennis': 1,\n  'skate': 1,\n  'cycling': 2},\n 'other_kinds_of_sports': {'сквош': 2},\n 'about': 'Я студент, учусь на программиста. Ищу друга и партера для занятий спортом',\n 'current_position': 'main_menu_case'}"
     },
     "execution_count": 12,
     "metadata": {},
     "output_type": "execute_result"
    }
   ],
   "source": [
    "from bot_resources import *\n",
    "\n",
    "db['users'].find_one_and_update({'_id': 213151570}, {'$set': {\n",
    "    'current_position': 'main_menu_case'\n",
    "}})"
   ],
   "metadata": {
    "collapsed": false,
    "pycharm": {
     "name": "#%%\n"
    }
   }
  },
  {
   "cell_type": "code",
   "execution_count": 11,
   "outputs": [
    {
     "name": "stdout",
     "output_type": "stream",
     "text": [
      "Traceback (most recent call last):\n",
      "  File \"C:\\Users\\kolya\\AppData\\Local\\Temp/ipykernel_4252/2984324070.py\", line 3, in <module>\n",
      "    0 / 0\n",
      "ZeroDivisionError: division by zero\n",
      "\n"
     ]
    }
   ],
   "source": [
    "import traceback\n",
    "\n",
    "try:\n",
    "    0 / 0\n",
    "except Exception as e:\n",
    "    print(f'{traceback.format_exc()}')"
   ],
   "metadata": {
    "collapsed": false,
    "pycharm": {
     "name": "#%%\n"
    }
   }
  },
  {
   "cell_type": "code",
   "execution_count": 17,
   "outputs": [
    {
     "name": "stdout",
     "output_type": "stream",
     "text": [
      "<class 'geopy.location.Location'>\n",
      "Пермь, Пермский край, Приволжский федеральный округ, Россия\n",
      "(58.025487, 56.23313637837748)\n",
      "{'place_id': 282727269, 'licence': 'Data © OpenStreetMap contributors, ODbL 1.0. https://osm.org/copyright', 'osm_type': 'relation', 'osm_id': 3437213, 'boundingbox': ['57.8678961', '58.1792804', '55.8042579', '56.6555926'], 'lat': '58.025487', 'lon': '56.23313637837748', 'display_name': 'Пермь, Пермский край, Приволжский федеральный округ, Россия', 'class': 'place', 'type': 'city', 'importance': 0.45999999999999996, 'icon': 'https://nominatim.openstreetmap.org/ui/mapicons//poi_place_city.p.20.png'}\n"
     ]
    }
   ],
   "source": [
    "from geopy.geocoders import Nominatim\n",
    "\n",
    "geolocator = Nominatim(user_agent=\"SmatchBot\")\n",
    "location = geolocator.geocode(\"Пермь\")\n",
    "print(type(location))\n",
    "print(location.address)\n",
    "print((location.latitude, location.longitude))\n",
    "print(location.raw)\n"
   ],
   "metadata": {
    "collapsed": false,
    "pycharm": {
     "name": "#%%\n"
    }
   }
  },
  {
   "cell_type": "code",
   "execution_count": 16,
   "outputs": [
    {
     "name": "stdout",
     "output_type": "stream",
     "text": [
      "866.4554329098687\n"
     ]
    }
   ],
   "source": [
    "from geopy.distance import geodesic\n",
    "\n",
    "newport_ri = (41.49008, -71.312796)\n",
    "cleveland_oh = (41.499498, -81.695391)\n",
    "print(geodesic(newport_ri, cleveland_oh).kilometers)"
   ],
   "metadata": {
    "collapsed": false,
    "pycharm": {
     "name": "#%%\n"
    }
   }
  },
  {
   "cell_type": "code",
   "execution_count": 21,
   "outputs": [
    {
     "data": {
      "text/plain": "19"
     },
     "execution_count": 21,
     "metadata": {},
     "output_type": "execute_result"
    }
   ],
   "source": [
    "len('select_search_range')"
   ],
   "metadata": {
    "collapsed": false,
    "pycharm": {
     "name": "#%%\n"
    }
   }
  },
  {
   "cell_type": "code",
   "execution_count": 24,
   "outputs": [
    {
     "ename": "TypeError",
     "evalue": "'list' object cannot be interpreted as an integer",
     "output_type": "error",
     "traceback": [
      "\u001B[1;31m---------------------------------------------------------------------------\u001B[0m",
      "\u001B[1;31mTypeError\u001B[0m                                 Traceback (most recent call last)",
      "\u001B[1;32m~\\AppData\\Local\\Temp/ipykernel_4252/1892839662.py\u001B[0m in \u001B[0;36m<module>\u001B[1;34m\u001B[0m\n\u001B[0;32m      1\u001B[0m \u001B[1;32mimport\u001B[0m \u001B[0mthreading\u001B[0m\u001B[1;33m\u001B[0m\u001B[1;33m\u001B[0m\u001B[0m\n\u001B[1;32m----> 2\u001B[1;33m \u001B[0mthreading\u001B[0m\u001B[1;33m.\u001B[0m\u001B[0mstack_size\u001B[0m\u001B[1;33m(\u001B[0m\u001B[1;33m[\u001B[0m\u001B[1;36m1\u001B[0m\u001B[1;33m]\u001B[0m\u001B[1;33m)\u001B[0m\u001B[1;33m\u001B[0m\u001B[1;33m\u001B[0m\u001B[0m\n\u001B[0m",
      "\u001B[1;31mTypeError\u001B[0m: 'list' object cannot be interpreted as an integer"
     ]
    }
   ],
   "source": [
    "import threading\n",
    "\n",
    "threading.stack_size()"
   ],
   "metadata": {
    "collapsed": false,
    "pycharm": {
     "name": "#%%\n"
    }
   }
  },
  {
   "cell_type": "code",
   "execution_count": 11,
   "outputs": [
    {
     "data": {
      "text/plain": "864.2132735075429"
     },
     "execution_count": 11,
     "metadata": {},
     "output_type": "execute_result"
    }
   ],
   "source": [
    "from math import acos, cos, sin, pi\n",
    "\n",
    "lat1 = 41.49008\n",
    "lon1 = -71.312796\n",
    "lat2 = 41.499498\n",
    "lon2 = -81.695391\n",
    "6371 * acos(sin(lat1 / 180 * pi) * sin(lat2 / 180 * pi) +\n",
    "            cos(lat1 / 180 * pi) * cos(lat2 / 180 * pi) * cos(lon1 / 180 * pi - lon2 / 180 * pi))"
   ],
   "metadata": {
    "collapsed": false,
    "pycharm": {
     "name": "#%%\n"
    }
   }
  },
  {
   "cell_type": "code",
   "execution_count": 56,
   "outputs": [
    {
     "data": {
      "text/plain": "{'_id': 213151570,\n 'time_of_start_registration': datetime.datetime(2021, 12, 7, 16, 17, 34, 992000),\n 'name': 'Коля',\n 'date_of_birth': datetime.datetime(2001, 11, 10, 0, 0),\n 'sex': 'sex_male',\n 'kinds_of_sports': {'jym': 1,\n  'swimming': 2,\n  'tennis': 1,\n  'skate': 1,\n  'cycling': 2},\n 'other_kinds_of_sports': {'сквош': 2},\n 'about': 'Я студент, учусь на программиста. Ищу друга и партера для занятий спортом',\n 'current_position': 'main_menu_case',\n 'locations': [{'latitude': 58.025487,\n   'longitude': 56.23313637837748,\n   'latitude_cos': 0.5295419728295423,\n   'latitude_sin': 0.8482837373260178,\n   'longitude_rad': 0.9814533785256868,\n   'range': 50.0}]}"
     },
     "execution_count": 56,
     "metadata": {},
     "output_type": "execute_result"
    }
   ],
   "source": [
    "db['users'].find_one({'_id': 213151570})"
   ],
   "metadata": {
    "collapsed": false,
    "pycharm": {
     "name": "#%%\n"
    }
   }
  },
  {
   "cell_type": "code",
   "execution_count": null,
   "outputs": [],
   "source": [
    "from bot_resources import *\n",
    "\n",
    "max_rows_select_search_range = int(config['Find partner']['max_rows_select_search_range'])\n",
    "select_search_range = {\n",
    "    key: [\n",
    "        list(map(lambda x:\n",
    "                 tb.types.InlineKeyboardButton(text=language['Find partner']['selected'] +\n",
    "                                                    language['Search ranges'][x],\n",
    "                                               callback_data=f'select_search_range//{key}//{x}')\n",
    "                 if key == x else\n",
    "                 tb.types.InlineKeyboardButton(text=language['Search ranges'][x],\n",
    "                                               callback_data=f'select_search_range//{key}//{x}'),\n",
    "                 list(dict(language['Search ranges']).keys())[i: i + max_rows_select_search_range]))\n",
    "        for i in range(0, len(language['Search ranges']), max_rows_select_search_range)\n",
    "    ]\n",
    "    for key, value in dict(language['Search ranges']).items()\n",
    "}\n",
    "select_search_range['first'] = [\n",
    "    list(map(lambda x:\n",
    "             tb.types.InlineKeyboardButton(text=language['Search ranges'][x],\n",
    "                                           callback_data=f'select_search_range//first//{x}'),\n",
    "             list(dict(language['Search ranges']).keys())[i: i + max_rows_select_search_range]))\n",
    "    for i in range(0, len(language['Search ranges']), max_rows_select_search_range)\n",
    "]\n",
    "select_search_range"
   ],
   "metadata": {
    "collapsed": false,
    "pycharm": {
     "name": "#%%\n"
    }
   }
  },
  {
   "cell_type": "code",
   "execution_count": 35,
   "outputs": [
    {
     "data": {
      "text/plain": "[{'_id': 438113820,\n  'range': 0,\n  'array': [{'k': 'jym', 'v': 5},\n   {'k': 'run', 'v': 5},\n   {'k': 'skateboard', 'v': 5}],\n  'finder_array': [{'k': 'jym', 'v': 1},\n   {'k': 'swimming', 'v': 2},\n   {'k': 'tennis', 'v': 1},\n   {'k': 'skate', 'v': 1},\n   {'k': 'cycling', 'v': 2},\n   {'k': 'сквош', 'v': 2}]}]"
     },
     "execution_count": 35,
     "metadata": {},
     "output_type": "execute_result"
    }
   ],
   "source": [
    "from backend.search_partner import search\n",
    "\n",
    "search(213151570)\n",
    "print(1)"
   ],
   "metadata": {
    "collapsed": false,
    "pycharm": {
     "name": "#%%\n"
    }
   }
  },
  {
   "cell_type": "code",
   "execution_count": 119,
   "outputs": [
    {
     "name": "stdout",
     "output_type": "stream",
     "text": [
      "1\n"
     ]
    }
   ],
   "source": [
    "from bot_resources import *\n",
    "from random import random, randint\n",
    "from multiprocessing.dummy import Pool\n",
    "from math import pi, cos, sin\n",
    "\n",
    "pool = Pool(10)\n",
    "\n",
    "\n",
    "def f(i):\n",
    "    latitude = randint(-90, 89) + random()\n",
    "    longitude = randint(-180, 179) + random()\n",
    "    db['users'].update_one({'_id': 213151570}, {'$push': {\n",
    "        'locations': {\n",
    "            'latitude': latitude,\n",
    "            'longitude': longitude,\n",
    "            'latitude_cos': cos(latitude * pi / 180.0),\n",
    "            'latitude_sin': sin(latitude * pi / 180.0),\n",
    "            'longitude_rad': longitude * pi / 180.0,\n",
    "            'range': 10000000.0\n",
    "        }}})\n",
    "\n",
    "\n",
    "pool.map(f, [i for i in range(100)])"
   ],
   "metadata": {
    "collapsed": false,
    "pycharm": {
     "name": "#%%\n"
    }
   }
  },
  {
   "cell_type": "code",
   "execution_count": 35,
   "outputs": [
    {
     "data": {
      "text/plain": "[{'_id': 438113820,\n  'range': 0,\n  'array': [{'k': 'jym', 'v': 5},\n   {'k': 'run', 'v': 5},\n   {'k': 'skateboard', 'v': 5}],\n  'finder_array': [{'k': 'jym', 'v': 1},\n   {'k': 'swimming', 'v': 2},\n   {'k': 'tennis', 'v': 1},\n   {'k': 'skate', 'v': 1},\n   {'k': 'cycling', 'v': 2},\n   {'k': 'сквош', 'v': 2}]}]"
     },
     "execution_count": 35,
     "metadata": {},
     "output_type": "execute_result"
    }
   ],
   "source": [
    "user = db['users'].find_one({'_id': 213151570})\n",
    "list(db['users'].aggregate([\n",
    "    {'$project': {\n",
    "        'range': 11082.0,\n",
    "        'partner_range': 1000000.0\n",
    "    }},\n",
    "    {\n",
    "        \"$redact\": {\n",
    "            \"$cond\": [\n",
    "                {\"$lte\": [\"$range\", \"$partner_range\"]},\n",
    "                \"$$KEEP\",\n",
    "                \"$$PRUNE\"\n",
    "            ]\n",
    "        }\n",
    "    }\n",
    "]))"
   ],
   "metadata": {
    "collapsed": false,
    "pycharm": {
     "name": "#%%\n"
    }
   }
  },
  {
   "cell_type": "code",
   "execution_count": 119,
   "outputs": [
    {
     "name": "stdout",
     "output_type": "stream",
     "text": [
      "1\n"
     ]
    }
   ],
   "source": [
    "from pprint import pprint\n",
    "\n",
    "user = db['users'].find_one({'_id': 213151570})\n",
    "for location in user['locations']:\n",
    "    users = list(db['users'].aggregate([\n",
    "        # {'$match': {'_id': {'$ne': user['_id']}}},\n",
    "        {'$unwind': '$locations'},\n",
    "        {\n",
    "            '$project': {\n",
    "                'range': {\n",
    "                    '$add': [\n",
    "                        {\n",
    "                            '$multiply': [\n",
    "                                location['latitude_sin'],\n",
    "                                '$locations.latitude_sin'\n",
    "                            ]\n",
    "                        },\n",
    "                        {\n",
    "                            '$multiply': [\n",
    "                                location['latitude_cos'],\n",
    "                                '$locations.latitude_cos',\n",
    "                                {\n",
    "                                    '$cos': {\n",
    "                                        '$subtract': [\n",
    "                                            location['longitude_rad'],\n",
    "                                            '$locations.longitude_rad'\n",
    "                                        ]\n",
    "                                    }\n",
    "                                }\n",
    "                            ]\n",
    "                        }\n",
    "                    ]\n",
    "                }\n",
    "            }\n",
    "        },\n",
    "        {'$cond': {'if': {'range': {'$gt': 1}},\n",
    "                   'then': {'range': 1},\n",
    "                   'else': {'range': {\n",
    "                       '$multiply': [\n",
    "                           6371,\n",
    "                           {'$acos': '$range'}\n",
    "                       ]\n",
    "                   }}}},\n",
    "        {'$match': {'range': {'$lte': location['range']}}},\n",
    "        # {'$group': {'_id': '$_id'}}\n",
    "    ], allowDiskUse=True))\n",
    "    f = False\n",
    "    for u in users:\n",
    "        if u['range'] < -1:\n",
    "            pprint(u)\n",
    "            # pprint(location)\n",
    "            f = True\n",
    "            # break\n",
    "    # if f:\n",
    "    #     break"
   ],
   "metadata": {
    "collapsed": false,
    "pycharm": {
     "name": "#%%\n"
    }
   }
  },
  {
   "cell_type": "code",
   "execution_count": 35,
   "outputs": [
    {
     "data": {
      "text/plain": "[{'_id': 438113820,\n  'range': 0,\n  'array': [{'k': 'jym', 'v': 5},\n   {'k': 'run', 'v': 5},\n   {'k': 'skateboard', 'v': 5}],\n  'finder_array': [{'k': 'jym', 'v': 1},\n   {'k': 'swimming', 'v': 2},\n   {'k': 'tennis', 'v': 1},\n   {'k': 'skate', 'v': 1},\n   {'k': 'cycling', 'v': 2},\n   {'k': 'сквош', 'v': 2}]}]"
     },
     "execution_count": 35,
     "metadata": {},
     "output_type": "execute_result"
    }
   ],
   "source": [
    "import datetime\n",
    "\n",
    "today = datetime.datetime.today()\n",
    "finder_user = db['users'].find_one({'_id': 213151570})\n",
    "born = finder_user['date_of_birth']\n",
    "today.year - born.year - ((today.month, today.day) < (born.month, born.day))"
   ],
   "metadata": {
    "collapsed": false,
    "pycharm": {
     "name": "#%%\n"
    }
   }
  },
  {
   "cell_type": "code",
   "execution_count": 35,
   "outputs": [
    {
     "data": {
      "text/plain": "[{'_id': 438113820,\n  'range': 0,\n  'array': [{'k': 'jym', 'v': 5},\n   {'k': 'run', 'v': 5},\n   {'k': 'skateboard', 'v': 5}],\n  'finder_array': [{'k': 'jym', 'v': 1},\n   {'k': 'swimming', 'v': 2},\n   {'k': 'tennis', 'v': 1},\n   {'k': 'skate', 'v': 1},\n   {'k': 'cycling', 'v': 2},\n   {'k': 'сквош', 'v': 2}]}]"
     },
     "execution_count": 35,
     "metadata": {},
     "output_type": "execute_result"
    }
   ],
   "source": [
    "int(123.4)"
   ],
   "metadata": {
    "collapsed": false,
    "pycharm": {
     "name": "#%%\n"
    }
   }
  },
  {
   "cell_type": "code",
   "execution_count": 26,
   "outputs": [
    {
     "data": {
      "text/plain": "1.67"
     },
     "execution_count": 26,
     "metadata": {},
     "output_type": "execute_result"
    }
   ],
   "source": [
    "round(1.666 * 100) / 100"
   ],
   "metadata": {
    "collapsed": false,
    "pycharm": {
     "name": "#%%\n"
    }
   }
  },
  {
   "cell_type": "code",
   "execution_count": 119,
   "outputs": [
    {
     "name": "stdout",
     "output_type": "stream",
     "text": [
      "1\n"
     ]
    }
   ],
   "source": [
    "len('match_inline_keyboard//yes')"
   ],
   "metadata": {
    "collapsed": false,
    "pycharm": {
     "name": "#%%\n"
    }
   }
  },
  {
   "cell_type": "code",
   "execution_count": 119,
   "outputs": [
    {
     "name": "stdout",
     "output_type": "stream",
     "text": [
      "1\n"
     ]
    }
   ],
   "source": [
    "import bot_resources\n",
    "import backend.search_partner as search_partner\n",
    "from importlib import reload\n",
    "\n",
    "reload(bot_resources)\n",
    "reload(search_partner)\n",
    "bot_resources.bot.send_message(213151570, '123', reply_markup=search_partner.match_inline_keyboard(1607089511))"
   ],
   "metadata": {
    "collapsed": false,
    "pycharm": {
     "name": "#%%\n"
    }
   }
  },
  {
   "cell_type": "code",
   "execution_count": 37,
   "outputs": [
    {
     "data": {
      "text/plain": "26"
     },
     "execution_count": 37,
     "metadata": {},
     "output_type": "execute_result"
    }
   ],
   "source": [
    "from bot_resources import bot, tb, language\n",
    "import backend.search_partner as search_partner\n",
    "from importlib import reload\n",
    "\n",
    "reload(bot_resources)\n",
    "reload(search_partner)\n",
    "main_keyboard = tb.types.ReplyKeyboardMarkup(one_time_keyboard=True)\n",
    "main_keyboard.row(\n",
    "    tb.types.KeyboardButton(language['Main menu']['find_partner'], request_location=True),\n",
    "    tb.types.KeyboardButton(language['Main menu']['find_team'])\n",
    ")\n",
    "main_keyboard.row(\n",
    "    tb.types.KeyboardButton(language['Main menu']['settings'])\n",
    ")\n",
    "bot.send_message(213151570, '123', reply_markup=main_keyboard)"
   ],
   "metadata": {
    "collapsed": false,
    "pycharm": {
     "name": "#%%\n"
    }
   }
  },
  {
   "cell_type": "code",
   "execution_count": 37,
   "outputs": [
    {
     "data": {
      "text/plain": "26"
     },
     "execution_count": 37,
     "metadata": {},
     "output_type": "execute_result"
    }
   ],
   "source": [],
   "metadata": {
    "collapsed": false,
    "pycharm": {
     "name": "#%%\n"
    }
   }
  },
  {
   "cell_type": "code",
   "execution_count": 8,
   "outputs": [
    {
     "data": {
      "text/plain": "[{'_id': 108214882,\n  'range': 1169.9479370897654,\n  'year_date_diff': 29,\n  'partner_range': 5.0,\n  'finder_range': 50.0,\n  'kinds_of_sports': {'jym': 2},\n  'other_kinds_of_sports': {},\n  'finder_age': 10.0},\n {'_id': 438113820,\n  'range': 1159.7059364598767,\n  'year_date_diff': 1,\n  'partner_range': 10.0,\n  'finder_range': 50.0,\n  'kinds_of_sports': {'jym': 5, 'run': 5, 'skateboard': 5},\n  'other_kinds_of_sports': {},\n  'finder_age': 10.0},\n {'_id': 1193871938,\n  'range': 1159.7059364598767,\n  'year_date_diff': 2,\n  'partner_range': 50.0,\n  'finder_range': 50.0,\n  'kinds_of_sports': {'jym': 5},\n  'other_kinds_of_sports': {},\n  'finder_age': 10.0},\n {'_id': 1607089511,\n  'range': 0,\n  'year_date_diff': 0,\n  'partner_range': 50.0,\n  'finder_range': 50.0,\n  'kinds_of_sports': {'jym': 3},\n  'other_kinds_of_sports': {},\n  'finder_age': 10.0,\n  'partner_age': 10.0}]"
     },
     "execution_count": 8,
     "metadata": {},
     "output_type": "execute_result"
    }
   ],
   "source": [
    "from bot_resources import *\n",
    "\n",
    "spread_of_professionalism = int(config['Search partner']['spread_of_professionalism'])\n",
    "\n",
    "\n",
    "def run(user_id):\n",
    "    from bot_resources import db\n",
    "    user = db['users'].find_one({'_id': user_id})\n",
    "    users = list(db['users'].aggregate([\n",
    "        {'$match': {'_id': {'$ne': user['_id']}}},\n",
    "        {\n",
    "            '$project': {\n",
    "                'locations': '$locations',\n",
    "                'finder_locations': user['locations'],\n",
    "                'finder_date_of_birth': user['date_of_birth'],\n",
    "                'partner_date_of_birth': '$date_of_birth',\n",
    "                'kinds_of_sports': '$kinds_of_sports',\n",
    "                'other_kinds_of_sports': '$other_kinds_of_sports'\n",
    "            }\n",
    "        }, {\n",
    "            '$unwind': '$finder_locations'\n",
    "        }, {\n",
    "            '$unwind': '$locations'\n",
    "        }, {\n",
    "            '$project': {\n",
    "                'range': {\n",
    "                    '$add': [\n",
    "                        {\n",
    "                            '$multiply': [\n",
    "                                '$finder_locations.latitude_sin',\n",
    "                                '$locations.latitude_sin'\n",
    "                            ]\n",
    "                        },\n",
    "                        {\n",
    "                            '$multiply': [\n",
    "                                '$finder_locations.latitude_cos',\n",
    "                                '$locations.latitude_cos',\n",
    "                                {\n",
    "                                    '$cos': {\n",
    "                                        '$subtract': [\n",
    "                                            '$finder_locations.longitude_rad',\n",
    "                                            '$locations.longitude_rad'\n",
    "                                        ]\n",
    "                                    }\n",
    "                                }\n",
    "                            ]\n",
    "                        }\n",
    "                    ]\n",
    "                },\n",
    "                'partner_range': '$locations.range',\n",
    "                'finder_range': '$finder_locations.range',\n",
    "                'finder_date_of_birth': '$finder_date_of_birth',\n",
    "                'partner_date_of_birth': '$partner_date_of_birth',\n",
    "                'kinds_of_sports': '$kinds_of_sports',\n",
    "                'other_kinds_of_sports': '$other_kinds_of_sports',\n",
    "                'finder_age': '$finder_locations.age',\n",
    "                'partner_age': '$locations.age',\n",
    "            }\n",
    "        }, {\n",
    "            '$project': {\n",
    "                'range': {\n",
    "                    '$cond': {\n",
    "                        'if': {'$gte': ['$range', 1]},\n",
    "                        'then': 0,\n",
    "                        'else': {\n",
    "                            '$multiply': [\n",
    "                                6371,\n",
    "                                {'$acos': '$range'}\n",
    "                            ]\n",
    "                        }\n",
    "                    }\n",
    "                },\n",
    "                'year_date_diff':{\n",
    "                    '$abs': {\n",
    "                        '$dateDiff': {\n",
    "                            'startDate': '$finder_date_of_birth',\n",
    "                            'endDate': '$partner_date_of_birth',\n",
    "                            'unit': 'year'\n",
    "                        }\n",
    "                    }},\n",
    "                'partner_range': '$partner_range',\n",
    "                'finder_range': '$finder_range',\n",
    "                'kinds_of_sports': '$kinds_of_sports',\n",
    "                'other_kinds_of_sports': '$other_kinds_of_sports',\n",
    "                'finder_age': '$finder_age',\n",
    "                'partner_age': '$partner_age',\n",
    "            }\n",
    "        },\n",
    "    ], allowDiskUse=True))\n",
    "    return users\n",
    "\n",
    "\n",
    "# for i in run(213151570):\n",
    "#     if i['range'] > i['partner_range']:\n",
    "#         print(i)\n",
    "run(213151570)"
   ],
   "metadata": {
    "collapsed": false,
    "pycharm": {
     "name": "#%%\n"
    }
   }
  },
  {
   "cell_type": "code",
   "execution_count": 11,
   "outputs": [
    {
     "data": {
      "text/plain": "{'_id': 213151570,\n 'time_of_start_registration': datetime.datetime(2021, 12, 8, 17, 41, 40, 547000),\n 'name': 'Коля',\n 'date_of_birth': datetime.datetime(2001, 11, 10, 0, 0),\n 'sex': 'sex_male',\n 'kinds_of_sports': {'jym': 3,\n  'swimming': 3,\n  'tennis': 3,\n  'skate': 3,\n  'cycling': 3},\n 'other_kinds_of_sports': {'сквош': 3},\n 'about': 'Я студент, учусь на программиста. Ищу друга и партера для занятий спортом',\n 'settings_updated': [datetime.datetime(2021, 12, 8, 17, 42, 40, 388000)],\n 'matches': {'1607089511': False},\n 'current_position': 'find_partner_location',\n 'locations': [{'latitude': 58.025487,\n   'longitude': 56.23313637837748,\n   'latitude_cos': 0.5295419728295423,\n   'latitude_sin': 0.8482837373260178,\n   'longitude_rad': 0.9814533785256868,\n   'range': 50.0,\n   'age': 10.0}]}"
     },
     "execution_count": 11,
     "metadata": {},
     "output_type": "execute_result"
    }
   ],
   "source": [
    "user = db['users'].find_one({'_id': 213151570})\n",
    "user"
   ],
   "metadata": {
    "collapsed": false,
    "pycharm": {
     "name": "#%%\n"
    }
   }
  },
  {
   "cell_type": "code",
   "execution_count": 12,
   "outputs": [
    {
     "data": {
      "text/plain": "6"
     },
     "execution_count": 12,
     "metadata": {},
     "output_type": "execute_result"
    }
   ],
   "source": [],
   "metadata": {
    "collapsed": false,
    "pycharm": {
     "name": "#%%\n"
    }
   }
  },
  {
   "cell_type": "code",
   "execution_count": null,
   "outputs": [],
   "source": [],
   "metadata": {
    "collapsed": false,
    "pycharm": {
     "name": "#%%\n"
    }
   }
  }
 ],
 "metadata": {
  "kernelspec": {
   "display_name": "Python 3",
   "language": "python",
   "name": "python3"
  },
  "language_info": {
   "codemirror_mode": {
    "name": "ipython",
    "version": 2
   },
   "file_extension": ".py",
   "mimetype": "text/x-python",
   "name": "python",
   "nbconvert_exporter": "python",
   "pygments_lexer": "ipython2",
   "version": "2.7.6"
  }
 },
 "nbformat": 4,
 "nbformat_minor": 0
}